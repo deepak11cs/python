{
 "cells": [
  {
   "cell_type": "code",
   "execution_count": 11,
   "metadata": {},
   "outputs": [],
   "source": [
    "def copylist(mylist, newlist=-2):\n",
    "    \"\"\"\n",
    "    objective: create the copy of the list\n",
    "    input: list to be copied\n",
    "    return value: a reference to the copy of the list\n",
    "    \"\"\"\n",
    "    \"\"\"\n",
    "    approach: using recursion\n",
    "    \"\"\"\n",
    "    if newlist == -2:\n",
    "        newlist = list()\n",
    "    if len(mylist)>=1:\n",
    "        newlist.append(mylist[0])\n",
    "        return copylist(mylist[1:],newlist)\n",
    "    else:\n",
    "        return newlist"
   ]
  },
  {
   "cell_type": "code",
   "execution_count": 12,
   "metadata": {},
   "outputs": [],
   "source": [
    "list1 = [1,3,5,6,2,[4,3,2]]"
   ]
  },
  {
   "cell_type": "code",
   "execution_count": 13,
   "metadata": {},
   "outputs": [],
   "source": [
    "list2 = copylist(list1)"
   ]
  },
  {
   "cell_type": "code",
   "execution_count": 14,
   "metadata": {},
   "outputs": [
    {
     "data": {
      "text/plain": [
       "[1, 3, 5, 6, 2, [4, 3, 2]]"
      ]
     },
     "execution_count": 14,
     "metadata": {},
     "output_type": "execute_result"
    }
   ],
   "source": [
    "list2"
   ]
  },
  {
   "cell_type": "code",
   "execution_count": 15,
   "metadata": {},
   "outputs": [
    {
     "data": {
      "text/plain": [
       "False"
      ]
     },
     "execution_count": 15,
     "metadata": {},
     "output_type": "execute_result"
    }
   ],
   "source": [
    "list1 is list2"
   ]
  },
  {
   "cell_type": "code",
   "execution_count": 16,
   "metadata": {},
   "outputs": [
    {
     "data": {
      "text/plain": [
       "True"
      ]
     },
     "execution_count": 16,
     "metadata": {},
     "output_type": "execute_result"
    }
   ],
   "source": [
    "list1[5] is list2[5]"
   ]
  },
  {
   "cell_type": "code",
   "execution_count": 17,
   "metadata": {},
   "outputs": [],
   "source": [
    "def remvalue(mylist, val, i=0):\n",
    "    \"\"\"\n",
    "    objective: remove value from the list passed by the user\n",
    "    input: a list of numbers and a value to be removed\n",
    "    return value: no return value original list will be mutated\n",
    "    \"\"\"\n",
    "    \"\"\"\n",
    "    approach: using recursion\n",
    "    \"\"\"\n",
    "    if i< len(mylist):\n",
    "        if mylist[i]==val:\n",
    "            mylist.pop(i)\n",
    "            remvalue(mylist,val,i)\n",
    "        else:\n",
    "            remvalue(mylist,val,i+1)"
   ]
  },
  {
   "cell_type": "code",
   "execution_count": 29,
   "metadata": {},
   "outputs": [],
   "source": [
    "remvalue(list2,[4,3,2])"
   ]
  },
  {
   "cell_type": "code",
   "execution_count": 30,
   "metadata": {},
   "outputs": [
    {
     "data": {
      "text/plain": [
       "[]"
      ]
     },
     "execution_count": 30,
     "metadata": {},
     "output_type": "execute_result"
    }
   ],
   "source": [
    "list2"
   ]
  },
  {
   "cell_type": "code",
   "execution_count": null,
   "metadata": {},
   "outputs": [],
   "source": []
  }
 ],
 "metadata": {
  "kernelspec": {
   "display_name": "Python 3",
   "language": "python",
   "name": "python3"
  },
  "language_info": {
   "codemirror_mode": {
    "name": "ipython",
    "version": 3
   },
   "file_extension": ".py",
   "mimetype": "text/x-python",
   "name": "python",
   "nbconvert_exporter": "python",
   "pygments_lexer": "ipython3",
   "version": "3.7.3"
  }
 },
 "nbformat": 4,
 "nbformat_minor": 2
}
