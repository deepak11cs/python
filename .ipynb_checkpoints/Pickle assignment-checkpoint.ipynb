{
 "cells": [
  {
   "cell_type": "code",
   "execution_count": 96,
   "metadata": {},
   "outputs": [],
   "source": [
    "import pickle"
   ]
  },
  {
   "cell_type": "code",
   "execution_count": 97,
   "metadata": {},
   "outputs": [],
   "source": [
    "class student:\n",
    "    def __init__(self, roll, name, marks):\n",
    "        self.__roll = roll\n",
    "        self.__name = name\n",
    "        self.__marks = marks\n",
    "        \n",
    "    def getName(self):\n",
    "        return self.__name\n",
    "    \n",
    "    def getRoll(self):\n",
    "        return self.__roll\n",
    "    \n",
    "    def getMarks(self):\n",
    "        return self.__marks\n",
    "    \n",
    "    def updateMarks(self,marks):\n",
    "        self.__marks = marks\n",
    "    \n",
    "    def __repr__(self):\n",
    "        return f'roll no: {self.__roll}, name: {self.__name}, marks: {self.__marks}'"
   ]
  },
  {
   "cell_type": "code",
   "execution_count": 98,
   "metadata": {},
   "outputs": [],
   "source": [
    "students = list()"
   ]
  },
  {
   "cell_type": "code",
   "execution_count": 99,
   "metadata": {},
   "outputs": [],
   "source": [
    "with open('students.txt') as f:\n",
    "    for line in f:\n",
    "        line.strip()\n",
    "        temp = line.split(',')\n",
    "        s = student(int(temp[0].strip()),temp[1].strip(),int(temp[2].strip()))\n",
    "        students.append(s)\n"
   ]
  },
  {
   "cell_type": "code",
   "execution_count": 100,
   "metadata": {},
   "outputs": [],
   "source": [
    "pickle.dump(students, file = open('studentObj.pkl','wb'))"
   ]
  },
  {
   "cell_type": "code",
   "execution_count": 101,
   "metadata": {},
   "outputs": [],
   "source": [
    "student_list = pickle.load(file = open('studentObj.pkl','rb'))"
   ]
  },
  {
   "cell_type": "code",
   "execution_count": 102,
   "metadata": {},
   "outputs": [
    {
     "data": {
      "text/plain": [
       "[roll no: 1, name: asd, marks: 59,\n",
       " roll no: 2, name: dfd, marks: 65,\n",
       " roll no: 3, name: tls, marks: 63,\n",
       " roll no: 4, name: wns, marks: 33,\n",
       " roll no: 5, name: soi, marks: 45]"
      ]
     },
     "execution_count": 102,
     "metadata": {},
     "output_type": "execute_result"
    }
   ],
   "source": [
    "student_list"
   ]
  },
  {
   "cell_type": "code",
   "execution_count": 103,
   "metadata": {},
   "outputs": [
    {
     "name": "stdout",
     "output_type": "stream",
     "text": [
      "updated roll no. 1\n",
      "updated roll no. 3\n"
     ]
    }
   ],
   "source": [
    "with open('revised.txt') as f:\n",
    "    for line in f:\n",
    "        line.strip()\n",
    "        temp = line.split(',')\n",
    "        for s in student_list:\n",
    "            if s.getRoll() == int(temp[0].strip()):\n",
    "                s.updateMarks(int(temp[1].strip()))\n",
    "                print(f'updated roll no. {s.getRoll()}')"
   ]
  },
  {
   "cell_type": "code",
   "execution_count": 104,
   "metadata": {},
   "outputs": [
    {
     "data": {
      "text/plain": [
       "[roll no: 1, name: asd, marks: 77,\n",
       " roll no: 2, name: dfd, marks: 65,\n",
       " roll no: 3, name: tls, marks: 90,\n",
       " roll no: 4, name: wns, marks: 33,\n",
       " roll no: 5, name: soi, marks: 45]"
      ]
     },
     "execution_count": 104,
     "metadata": {},
     "output_type": "execute_result"
    }
   ],
   "source": [
    "student_list"
   ]
  },
  {
   "cell_type": "code",
   "execution_count": 105,
   "metadata": {},
   "outputs": [],
   "source": [
    "pickle.dump(student_list, file = open('studentObj.pkl','wb'))"
   ]
  },
  {
   "cell_type": "code",
   "execution_count": 106,
   "metadata": {},
   "outputs": [],
   "source": [
    "updated_student_list = pickle.load(file = open('studentObj.pkl','rb'))"
   ]
  },
  {
   "cell_type": "code",
   "execution_count": 110,
   "metadata": {},
   "outputs": [
    {
     "name": "stdout",
     "output_type": "stream",
     "text": [
      "roll no: 1, name: asd, marks: 77\n",
      "roll no: 2, name: dfd, marks: 65\n",
      "roll no: 3, name: tls, marks: 90\n",
      "roll no: 4, name: wns, marks: 33\n",
      "roll no: 5, name: soi, marks: 45\n"
     ]
    }
   ],
   "source": [
    "print(*updated_student_list,sep='\\n')"
   ]
  },
  {
   "cell_type": "code",
   "execution_count": null,
   "metadata": {},
   "outputs": [],
   "source": []
  }
 ],
 "metadata": {
  "kernelspec": {
   "display_name": "Python 3",
   "language": "python",
   "name": "python3"
  },
  "language_info": {
   "codemirror_mode": {
    "name": "ipython",
    "version": 3
   },
   "file_extension": ".py",
   "mimetype": "text/x-python",
   "name": "python",
   "nbconvert_exporter": "python",
   "pygments_lexer": "ipython3",
   "version": "3.7.3"
  }
 },
 "nbformat": 4,
 "nbformat_minor": 2
}
